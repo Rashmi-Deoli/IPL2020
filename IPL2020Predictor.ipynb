{
  "nbformat": 4,
  "nbformat_minor": 0,
  "metadata": {
    "colab": {
      "provenance": [],
      "include_colab_link": true
    },
    "kernelspec": {
      "name": "python3",
      "display_name": "Python 3"
    }
  },
  "cells": [
    {
      "cell_type": "markdown",
      "metadata": {
        "id": "view-in-github",
        "colab_type": "text"
      },
      "source": [
        "<a href=\"https://colab.research.google.com/github/Rashmi-Deoli/IPL2020/blob/main/IPL2020Predictor.ipynb\" target=\"_parent\"><img src=\"https://colab.research.google.com/assets/colab-badge.svg\" alt=\"Open In Colab\"/></a>"
      ]
    },
    {
      "cell_type": "code",
      "metadata": {
        "id": "SO3qSeV-9I2K",
        "outputId": "9d350253-b044-4926-de9f-a3fea13242c9",
        "colab": {
          "base_uri": "https://localhost:8080/",
          "height": 35
        }
      },
      "source": [
        "from google.colab import drive\n",
        "drive.mount('/content/drive')"
      ],
      "execution_count": null,
      "outputs": [
        {
          "output_type": "stream",
          "text": [
            "Mounted at /content/drive\n"
          ],
          "name": "stdout"
        }
      ]
    },
    {
      "cell_type": "markdown",
      "metadata": {
        "id": "UNXj6q3J5YYh"
      },
      "source": [
        "#https://www.kaggle.com/sathyannarayan/predicting-outcome-of-ipl-match-based-on-variables"
      ]
    },
    {
      "cell_type": "code",
      "metadata": {
        "id": "OtJEpBDWJE6K",
        "outputId": "0f374f84-896f-464f-8837-9034571b84be",
        "colab": {
          "base_uri": "https://localhost:8080/",
          "height": 109
        }
      },
      "source": [
        "# This Python 3 environment comes with many helpful analytics libraries installed\n",
        "# It is defined by the kaggle/python docker image: https://github.com/kaggle/docker-python\n",
        "# For example, here's several helpful packages to load in\n",
        "\n",
        "import numpy as np # linear algebra\n",
        "import pandas as pd # data processing, CSV file I/O (e.g. pd.read_csv)\n",
        "\n",
        "# Input data files are available in the \"../input/\" directory.\n",
        "# For example, running this (by clicking run or pressing Shift+Enter) will list the files in the input directory\n",
        "\n",
        "from subprocess import check_output\n",
        "print(check_output([\"ls\", \"/content/drive/My Drive/IPL-Prediction-2020-WK1/\"]).decode(\"utf8\"))\n",
        "\n",
        "# Any results you write to the current directory are saved as output."
      ],
      "execution_count": null,
      "outputs": [
        {
          "output_type": "stream",
          "text": [
            "deliveries.csv\n",
            "matches-1.csv\n",
            "matches-1.gsheet\n",
            "matches.xlsx\n",
            "\n"
          ],
          "name": "stdout"
        }
      ]
    },
    {
      "cell_type": "code",
      "metadata": {
        "id": "DSIYyF4s-F7i",
        "outputId": "f895cf67-c829-43ba-c324-c8d4cd4ce699",
        "colab": {
          "base_uri": "https://localhost:8080/",
          "height": 476
        }
      },
      "source": [
        "matches=pd.read_excel(\"/content/drive/My Drive/IPL-Prediction-2020-WK1/matches.xlsx\")\n",
        "matches.info()\n"
      ],
      "execution_count": null,
      "outputs": [
        {
          "output_type": "stream",
          "text": [
            "<class 'pandas.core.frame.DataFrame'>\n",
            "RangeIndex: 756 entries, 0 to 755\n",
            "Data columns (total 18 columns):\n",
            " #   Column           Non-Null Count  Dtype         \n",
            "---  ------           --------------  -----         \n",
            " 0   id               756 non-null    int64         \n",
            " 1   season           756 non-null    int64         \n",
            " 2   city             749 non-null    object        \n",
            " 3   date             756 non-null    datetime64[ns]\n",
            " 4   team1            756 non-null    object        \n",
            " 5   team2            756 non-null    object        \n",
            " 6   toss_winner      756 non-null    object        \n",
            " 7   toss_decision    756 non-null    object        \n",
            " 8   result           756 non-null    object        \n",
            " 9   dl_applied       756 non-null    int64         \n",
            " 10  winner           752 non-null    object        \n",
            " 11  win_by_runs      756 non-null    int64         \n",
            " 12  win_by_wickets   756 non-null    int64         \n",
            " 13  player_of_match  752 non-null    object        \n",
            " 14  venue            756 non-null    object        \n",
            " 15  umpire1          754 non-null    object        \n",
            " 16  umpire2          754 non-null    object        \n",
            " 17  umpire3          119 non-null    object        \n",
            "dtypes: datetime64[ns](1), int64(5), object(12)\n",
            "memory usage: 106.4+ KB\n"
          ],
          "name": "stdout"
        }
      ]
    },
    {
      "cell_type": "code",
      "metadata": {
        "id": "_oAG4O7BLB11",
        "outputId": "6f18cadc-996d-49f0-bd2d-885bc6890e26",
        "colab": {
          "base_uri": "https://localhost:8080/",
          "height": 300
        }
      },
      "source": [
        "matches.describe()"
      ],
      "execution_count": null,
      "outputs": [
        {
          "output_type": "execute_result",
          "data": {
            "text/html": [
              "<div>\n",
              "<style scoped>\n",
              "    .dataframe tbody tr th:only-of-type {\n",
              "        vertical-align: middle;\n",
              "    }\n",
              "\n",
              "    .dataframe tbody tr th {\n",
              "        vertical-align: top;\n",
              "    }\n",
              "\n",
              "    .dataframe thead th {\n",
              "        text-align: right;\n",
              "    }\n",
              "</style>\n",
              "<table border=\"1\" class=\"dataframe\">\n",
              "  <thead>\n",
              "    <tr style=\"text-align: right;\">\n",
              "      <th></th>\n",
              "      <th>id</th>\n",
              "      <th>season</th>\n",
              "      <th>dl_applied</th>\n",
              "      <th>win_by_runs</th>\n",
              "      <th>win_by_wickets</th>\n",
              "    </tr>\n",
              "  </thead>\n",
              "  <tbody>\n",
              "    <tr>\n",
              "      <th>count</th>\n",
              "      <td>756.000000</td>\n",
              "      <td>756.000000</td>\n",
              "      <td>756.000000</td>\n",
              "      <td>756.000000</td>\n",
              "      <td>756.000000</td>\n",
              "    </tr>\n",
              "    <tr>\n",
              "      <th>mean</th>\n",
              "      <td>1792.178571</td>\n",
              "      <td>2013.444444</td>\n",
              "      <td>0.025132</td>\n",
              "      <td>13.283069</td>\n",
              "      <td>3.350529</td>\n",
              "    </tr>\n",
              "    <tr>\n",
              "      <th>std</th>\n",
              "      <td>3464.478148</td>\n",
              "      <td>3.366895</td>\n",
              "      <td>0.156630</td>\n",
              "      <td>23.471144</td>\n",
              "      <td>3.387963</td>\n",
              "    </tr>\n",
              "    <tr>\n",
              "      <th>min</th>\n",
              "      <td>1.000000</td>\n",
              "      <td>2008.000000</td>\n",
              "      <td>0.000000</td>\n",
              "      <td>0.000000</td>\n",
              "      <td>0.000000</td>\n",
              "    </tr>\n",
              "    <tr>\n",
              "      <th>25%</th>\n",
              "      <td>189.750000</td>\n",
              "      <td>2011.000000</td>\n",
              "      <td>0.000000</td>\n",
              "      <td>0.000000</td>\n",
              "      <td>0.000000</td>\n",
              "    </tr>\n",
              "    <tr>\n",
              "      <th>50%</th>\n",
              "      <td>378.500000</td>\n",
              "      <td>2013.000000</td>\n",
              "      <td>0.000000</td>\n",
              "      <td>0.000000</td>\n",
              "      <td>4.000000</td>\n",
              "    </tr>\n",
              "    <tr>\n",
              "      <th>75%</th>\n",
              "      <td>567.250000</td>\n",
              "      <td>2016.000000</td>\n",
              "      <td>0.000000</td>\n",
              "      <td>19.000000</td>\n",
              "      <td>6.000000</td>\n",
              "    </tr>\n",
              "    <tr>\n",
              "      <th>max</th>\n",
              "      <td>11415.000000</td>\n",
              "      <td>2019.000000</td>\n",
              "      <td>1.000000</td>\n",
              "      <td>146.000000</td>\n",
              "      <td>10.000000</td>\n",
              "    </tr>\n",
              "  </tbody>\n",
              "</table>\n",
              "</div>"
            ],
            "text/plain": [
              "                 id       season  dl_applied  win_by_runs  win_by_wickets\n",
              "count    756.000000   756.000000  756.000000   756.000000      756.000000\n",
              "mean    1792.178571  2013.444444    0.025132    13.283069        3.350529\n",
              "std     3464.478148     3.366895    0.156630    23.471144        3.387963\n",
              "min        1.000000  2008.000000    0.000000     0.000000        0.000000\n",
              "25%      189.750000  2011.000000    0.000000     0.000000        0.000000\n",
              "50%      378.500000  2013.000000    0.000000     0.000000        4.000000\n",
              "75%      567.250000  2016.000000    0.000000    19.000000        6.000000\n",
              "max    11415.000000  2019.000000    1.000000   146.000000       10.000000"
            ]
          },
          "metadata": {
            "tags": []
          },
          "execution_count": 4
        }
      ]
    },
    {
      "cell_type": "code",
      "metadata": {
        "id": "MZap1a2R_FYB",
        "outputId": "0d5a7049-a86b-4aa2-f9c9-61730981e0dc",
        "colab": {
          "base_uri": "https://localhost:8080/",
          "height": 316
        }
      },
      "source": [
        "matches[pd.isnull(matches['winner'])]"
      ],
      "execution_count": null,
      "outputs": [
        {
          "output_type": "execute_result",
          "data": {
            "text/html": [
              "<div>\n",
              "<style scoped>\n",
              "    .dataframe tbody tr th:only-of-type {\n",
              "        vertical-align: middle;\n",
              "    }\n",
              "\n",
              "    .dataframe tbody tr th {\n",
              "        vertical-align: top;\n",
              "    }\n",
              "\n",
              "    .dataframe thead th {\n",
              "        text-align: right;\n",
              "    }\n",
              "</style>\n",
              "<table border=\"1\" class=\"dataframe\">\n",
              "  <thead>\n",
              "    <tr style=\"text-align: right;\">\n",
              "      <th></th>\n",
              "      <th>id</th>\n",
              "      <th>season</th>\n",
              "      <th>city</th>\n",
              "      <th>date</th>\n",
              "      <th>team1</th>\n",
              "      <th>team2</th>\n",
              "      <th>toss_winner</th>\n",
              "      <th>toss_decision</th>\n",
              "      <th>result</th>\n",
              "      <th>dl_applied</th>\n",
              "      <th>winner</th>\n",
              "      <th>win_by_runs</th>\n",
              "      <th>win_by_wickets</th>\n",
              "      <th>player_of_match</th>\n",
              "      <th>venue</th>\n",
              "      <th>umpire1</th>\n",
              "      <th>umpire2</th>\n",
              "      <th>umpire3</th>\n",
              "    </tr>\n",
              "  </thead>\n",
              "  <tbody>\n",
              "    <tr>\n",
              "      <th>241</th>\n",
              "      <td>301</td>\n",
              "      <td>2011</td>\n",
              "      <td>Delhi</td>\n",
              "      <td>2011-05-21</td>\n",
              "      <td>Delhi Daredevils</td>\n",
              "      <td>Pune Warriors</td>\n",
              "      <td>Delhi Daredevils</td>\n",
              "      <td>bat</td>\n",
              "      <td>no result</td>\n",
              "      <td>0</td>\n",
              "      <td>NaN</td>\n",
              "      <td>0</td>\n",
              "      <td>0</td>\n",
              "      <td>NaN</td>\n",
              "      <td>Feroz Shah Kotla</td>\n",
              "      <td>SS Hazare</td>\n",
              "      <td>RJ Tucker</td>\n",
              "      <td>NaN</td>\n",
              "    </tr>\n",
              "    <tr>\n",
              "      <th>486</th>\n",
              "      <td>546</td>\n",
              "      <td>2015</td>\n",
              "      <td>Bangalore</td>\n",
              "      <td>2015-04-29</td>\n",
              "      <td>Royal Challengers Bangalore</td>\n",
              "      <td>Rajasthan Royals</td>\n",
              "      <td>Rajasthan Royals</td>\n",
              "      <td>field</td>\n",
              "      <td>no result</td>\n",
              "      <td>0</td>\n",
              "      <td>NaN</td>\n",
              "      <td>0</td>\n",
              "      <td>0</td>\n",
              "      <td>NaN</td>\n",
              "      <td>M Chinnaswamy Stadium</td>\n",
              "      <td>JD Cloete</td>\n",
              "      <td>PG Pathak</td>\n",
              "      <td>NaN</td>\n",
              "    </tr>\n",
              "    <tr>\n",
              "      <th>511</th>\n",
              "      <td>571</td>\n",
              "      <td>2015</td>\n",
              "      <td>Bangalore</td>\n",
              "      <td>2015-05-17</td>\n",
              "      <td>Delhi Daredevils</td>\n",
              "      <td>Royal Challengers Bangalore</td>\n",
              "      <td>Royal Challengers Bangalore</td>\n",
              "      <td>field</td>\n",
              "      <td>no result</td>\n",
              "      <td>0</td>\n",
              "      <td>NaN</td>\n",
              "      <td>0</td>\n",
              "      <td>0</td>\n",
              "      <td>NaN</td>\n",
              "      <td>M Chinnaswamy Stadium</td>\n",
              "      <td>HDPK Dharmasena</td>\n",
              "      <td>K Srinivasan</td>\n",
              "      <td>NaN</td>\n",
              "    </tr>\n",
              "    <tr>\n",
              "      <th>744</th>\n",
              "      <td>11340</td>\n",
              "      <td>2019</td>\n",
              "      <td>Bengaluru</td>\n",
              "      <td>2019-04-30</td>\n",
              "      <td>Royal Challengers Bangalore</td>\n",
              "      <td>Rajasthan Royals</td>\n",
              "      <td>Rajasthan Royals</td>\n",
              "      <td>field</td>\n",
              "      <td>no result</td>\n",
              "      <td>0</td>\n",
              "      <td>NaN</td>\n",
              "      <td>0</td>\n",
              "      <td>0</td>\n",
              "      <td>NaN</td>\n",
              "      <td>M. Chinnaswamy Stadium</td>\n",
              "      <td>Nigel Llong</td>\n",
              "      <td>Ulhas Gandhe</td>\n",
              "      <td>Anil Chaudhary</td>\n",
              "    </tr>\n",
              "  </tbody>\n",
              "</table>\n",
              "</div>"
            ],
            "text/plain": [
              "        id  season       city  ...          umpire1       umpire2         umpire3\n",
              "241    301    2011      Delhi  ...        SS Hazare     RJ Tucker             NaN\n",
              "486    546    2015  Bangalore  ...        JD Cloete     PG Pathak             NaN\n",
              "511    571    2015  Bangalore  ...  HDPK Dharmasena  K Srinivasan             NaN\n",
              "744  11340    2019  Bengaluru  ...      Nigel Llong  Ulhas Gandhe  Anil Chaudhary\n",
              "\n",
              "[4 rows x 18 columns]"
            ]
          },
          "metadata": {
            "tags": []
          },
          "execution_count": 5
        }
      ]
    },
    {
      "cell_type": "code",
      "metadata": {
        "id": "YEjrpU4h3FVx"
      },
      "source": [
        "matches['winner'].fillna('Draw', inplace=True)"
      ],
      "execution_count": null,
      "outputs": []
    },
    {
      "cell_type": "code",
      "metadata": {
        "id": "QyvZdUMB_keh",
        "outputId": "2fad9f9a-789d-4ac2-cc93-b93562151be0",
        "colab": {
          "base_uri": "https://localhost:8080/",
          "height": 236
        }
      },
      "source": [
        "matches.replace(['Mumbai Indians','Kolkata Knight Riders','Royal Challengers Bangalore','Deccan Chargers','Chennai Super Kings',\n",
        "                 'Rajasthan Royals','Delhi Daredevils','Gujarat Lions','Kings XI Punjab',\n",
        "                 'Sunrisers Hyderabad','Rising Pune Supergiants','Rising Pune Supergiant','Kochi Tuskers Kerala','Pune Warriors']\n",
        "                ,['MI','KKR','RCB','DC','CSK','RR','DD','GL','KXIP','SRH','RPS','RPS','KTK','PW'],inplace=True)\n",
        "\n",
        "encode = {'team1': {'MI':1,'KKR':2,'RCB':3,'DC':4,'CSK':5,'RR':6,'DD':7,'GL':8,'KXIP':9,'SRH':10,'RPS':11,'KTK':12,'PW':13},\n",
        "          'team2': {'MI':1,'KKR':2,'RCB':3,'DC':4,'CSK':5,'RR':6,'DD':7,'GL':8,'KXIP':9,'SRH':10,'RPS':11,'KTK':12,'PW':13},\n",
        "          'toss_winner': {'MI':1,'KKR':2,'RCB':3,'DC':4,'CSK':5,'RR':6,'DD':7,'GL':8,'KXIP':9,'SRH':10,'RPS':11,'KTK':12,'PW':13},\n",
        "          'winner': {'MI':1,'KKR':2,'RCB':3,'DC':4,'CSK':5,'RR':6,'DD':7,'GL':8,'KXIP':9,'SRH':10,'RPS':11,'KTK':12,'PW':13,'Draw':14}}\n",
        "matches.replace(encode, inplace=True)\n",
        "matches.head(2)"
      ],
      "execution_count": null,
      "outputs": [
        {
          "output_type": "execute_result",
          "data": {
            "text/html": [
              "<div>\n",
              "<style scoped>\n",
              "    .dataframe tbody tr th:only-of-type {\n",
              "        vertical-align: middle;\n",
              "    }\n",
              "\n",
              "    .dataframe tbody tr th {\n",
              "        vertical-align: top;\n",
              "    }\n",
              "\n",
              "    .dataframe thead th {\n",
              "        text-align: right;\n",
              "    }\n",
              "</style>\n",
              "<table border=\"1\" class=\"dataframe\">\n",
              "  <thead>\n",
              "    <tr style=\"text-align: right;\">\n",
              "      <th></th>\n",
              "      <th>id</th>\n",
              "      <th>season</th>\n",
              "      <th>city</th>\n",
              "      <th>date</th>\n",
              "      <th>team1</th>\n",
              "      <th>team2</th>\n",
              "      <th>toss_winner</th>\n",
              "      <th>toss_decision</th>\n",
              "      <th>result</th>\n",
              "      <th>dl_applied</th>\n",
              "      <th>winner</th>\n",
              "      <th>win_by_runs</th>\n",
              "      <th>win_by_wickets</th>\n",
              "      <th>player_of_match</th>\n",
              "      <th>venue</th>\n",
              "      <th>umpire1</th>\n",
              "      <th>umpire2</th>\n",
              "      <th>umpire3</th>\n",
              "    </tr>\n",
              "  </thead>\n",
              "  <tbody>\n",
              "    <tr>\n",
              "      <th>0</th>\n",
              "      <td>60</td>\n",
              "      <td>2008</td>\n",
              "      <td>Bangalore</td>\n",
              "      <td>2008-04-18</td>\n",
              "      <td>2</td>\n",
              "      <td>3</td>\n",
              "      <td>3</td>\n",
              "      <td>field</td>\n",
              "      <td>normal</td>\n",
              "      <td>0</td>\n",
              "      <td>2</td>\n",
              "      <td>140</td>\n",
              "      <td>0</td>\n",
              "      <td>BB McCullum</td>\n",
              "      <td>M Chinnaswamy Stadium</td>\n",
              "      <td>Asad Rauf</td>\n",
              "      <td>RE Koertzen</td>\n",
              "      <td>NaN</td>\n",
              "    </tr>\n",
              "    <tr>\n",
              "      <th>1</th>\n",
              "      <td>61</td>\n",
              "      <td>2008</td>\n",
              "      <td>Chandigarh</td>\n",
              "      <td>2008-04-19</td>\n",
              "      <td>5</td>\n",
              "      <td>9</td>\n",
              "      <td>5</td>\n",
              "      <td>bat</td>\n",
              "      <td>normal</td>\n",
              "      <td>0</td>\n",
              "      <td>5</td>\n",
              "      <td>33</td>\n",
              "      <td>0</td>\n",
              "      <td>MEK Hussey</td>\n",
              "      <td>Punjab Cricket Association Stadium, Mohali</td>\n",
              "      <td>MR Benson</td>\n",
              "      <td>SL Shastri</td>\n",
              "      <td>NaN</td>\n",
              "    </tr>\n",
              "  </tbody>\n",
              "</table>\n",
              "</div>"
            ],
            "text/plain": [
              "   id  season        city  ...    umpire1      umpire2  umpire3\n",
              "0  60    2008   Bangalore  ...  Asad Rauf  RE Koertzen      NaN\n",
              "1  61    2008  Chandigarh  ...  MR Benson   SL Shastri      NaN\n",
              "\n",
              "[2 rows x 18 columns]"
            ]
          },
          "metadata": {
            "tags": []
          },
          "execution_count": 7
        }
      ]
    },
    {
      "cell_type": "code",
      "metadata": {
        "id": "XBsdmNtT_qoS",
        "outputId": "f1004757-a3d1-46f2-9fb2-67a54fce8b95",
        "colab": {
          "base_uri": "https://localhost:8080/",
          "height": 654
        }
      },
      "source": [
        "#Find cities which are null\n",
        "matches[pd.isnull(matches['city'])]"
      ],
      "execution_count": null,
      "outputs": [
        {
          "output_type": "execute_result",
          "data": {
            "text/html": [
              "<div>\n",
              "<style scoped>\n",
              "    .dataframe tbody tr th:only-of-type {\n",
              "        vertical-align: middle;\n",
              "    }\n",
              "\n",
              "    .dataframe tbody tr th {\n",
              "        vertical-align: top;\n",
              "    }\n",
              "\n",
              "    .dataframe thead th {\n",
              "        text-align: right;\n",
              "    }\n",
              "</style>\n",
              "<table border=\"1\" class=\"dataframe\">\n",
              "  <thead>\n",
              "    <tr style=\"text-align: right;\">\n",
              "      <th></th>\n",
              "      <th>id</th>\n",
              "      <th>season</th>\n",
              "      <th>city</th>\n",
              "      <th>date</th>\n",
              "      <th>team1</th>\n",
              "      <th>team2</th>\n",
              "      <th>toss_winner</th>\n",
              "      <th>toss_decision</th>\n",
              "      <th>result</th>\n",
              "      <th>dl_applied</th>\n",
              "      <th>winner</th>\n",
              "      <th>win_by_runs</th>\n",
              "      <th>win_by_wickets</th>\n",
              "      <th>player_of_match</th>\n",
              "      <th>venue</th>\n",
              "      <th>umpire1</th>\n",
              "      <th>umpire2</th>\n",
              "      <th>umpire3</th>\n",
              "    </tr>\n",
              "  </thead>\n",
              "  <tbody>\n",
              "    <tr>\n",
              "      <th>402</th>\n",
              "      <td>462</td>\n",
              "      <td>2014</td>\n",
              "      <td>NaN</td>\n",
              "      <td>2014-04-19</td>\n",
              "      <td>1</td>\n",
              "      <td>3</td>\n",
              "      <td>3</td>\n",
              "      <td>field</td>\n",
              "      <td>normal</td>\n",
              "      <td>0</td>\n",
              "      <td>3</td>\n",
              "      <td>0</td>\n",
              "      <td>7</td>\n",
              "      <td>PA Patel</td>\n",
              "      <td>Dubai International Cricket Stadium</td>\n",
              "      <td>Aleem Dar</td>\n",
              "      <td>AK Chaudhary</td>\n",
              "      <td>NaN</td>\n",
              "    </tr>\n",
              "    <tr>\n",
              "      <th>403</th>\n",
              "      <td>463</td>\n",
              "      <td>2014</td>\n",
              "      <td>NaN</td>\n",
              "      <td>2014-04-19</td>\n",
              "      <td>2</td>\n",
              "      <td>7</td>\n",
              "      <td>2</td>\n",
              "      <td>bat</td>\n",
              "      <td>normal</td>\n",
              "      <td>0</td>\n",
              "      <td>7</td>\n",
              "      <td>0</td>\n",
              "      <td>4</td>\n",
              "      <td>JP Duminy</td>\n",
              "      <td>Dubai International Cricket Stadium</td>\n",
              "      <td>Aleem Dar</td>\n",
              "      <td>VA Kulkarni</td>\n",
              "      <td>NaN</td>\n",
              "    </tr>\n",
              "    <tr>\n",
              "      <th>407</th>\n",
              "      <td>467</td>\n",
              "      <td>2014</td>\n",
              "      <td>NaN</td>\n",
              "      <td>2014-04-23</td>\n",
              "      <td>5</td>\n",
              "      <td>6</td>\n",
              "      <td>6</td>\n",
              "      <td>field</td>\n",
              "      <td>normal</td>\n",
              "      <td>0</td>\n",
              "      <td>5</td>\n",
              "      <td>7</td>\n",
              "      <td>0</td>\n",
              "      <td>RA Jadeja</td>\n",
              "      <td>Dubai International Cricket Stadium</td>\n",
              "      <td>HDPK Dharmasena</td>\n",
              "      <td>RK Illingworth</td>\n",
              "      <td>NaN</td>\n",
              "    </tr>\n",
              "    <tr>\n",
              "      <th>409</th>\n",
              "      <td>469</td>\n",
              "      <td>2014</td>\n",
              "      <td>NaN</td>\n",
              "      <td>2014-04-25</td>\n",
              "      <td>10</td>\n",
              "      <td>7</td>\n",
              "      <td>10</td>\n",
              "      <td>bat</td>\n",
              "      <td>normal</td>\n",
              "      <td>0</td>\n",
              "      <td>10</td>\n",
              "      <td>4</td>\n",
              "      <td>0</td>\n",
              "      <td>AJ Finch</td>\n",
              "      <td>Dubai International Cricket Stadium</td>\n",
              "      <td>M Erasmus</td>\n",
              "      <td>S Ravi</td>\n",
              "      <td>NaN</td>\n",
              "    </tr>\n",
              "    <tr>\n",
              "      <th>410</th>\n",
              "      <td>470</td>\n",
              "      <td>2014</td>\n",
              "      <td>NaN</td>\n",
              "      <td>2014-04-25</td>\n",
              "      <td>1</td>\n",
              "      <td>5</td>\n",
              "      <td>1</td>\n",
              "      <td>bat</td>\n",
              "      <td>normal</td>\n",
              "      <td>0</td>\n",
              "      <td>5</td>\n",
              "      <td>0</td>\n",
              "      <td>7</td>\n",
              "      <td>MM Sharma</td>\n",
              "      <td>Dubai International Cricket Stadium</td>\n",
              "      <td>BF Bowden</td>\n",
              "      <td>M Erasmus</td>\n",
              "      <td>NaN</td>\n",
              "    </tr>\n",
              "    <tr>\n",
              "      <th>415</th>\n",
              "      <td>475</td>\n",
              "      <td>2014</td>\n",
              "      <td>NaN</td>\n",
              "      <td>2014-04-28</td>\n",
              "      <td>3</td>\n",
              "      <td>9</td>\n",
              "      <td>9</td>\n",
              "      <td>field</td>\n",
              "      <td>normal</td>\n",
              "      <td>0</td>\n",
              "      <td>9</td>\n",
              "      <td>0</td>\n",
              "      <td>5</td>\n",
              "      <td>Sandeep Sharma</td>\n",
              "      <td>Dubai International Cricket Stadium</td>\n",
              "      <td>BF Bowden</td>\n",
              "      <td>S Ravi</td>\n",
              "      <td>NaN</td>\n",
              "    </tr>\n",
              "    <tr>\n",
              "      <th>417</th>\n",
              "      <td>477</td>\n",
              "      <td>2014</td>\n",
              "      <td>NaN</td>\n",
              "      <td>2014-04-30</td>\n",
              "      <td>10</td>\n",
              "      <td>1</td>\n",
              "      <td>1</td>\n",
              "      <td>field</td>\n",
              "      <td>normal</td>\n",
              "      <td>0</td>\n",
              "      <td>10</td>\n",
              "      <td>15</td>\n",
              "      <td>0</td>\n",
              "      <td>B Kumar</td>\n",
              "      <td>Dubai International Cricket Stadium</td>\n",
              "      <td>HDPK Dharmasena</td>\n",
              "      <td>M Erasmus</td>\n",
              "      <td>NaN</td>\n",
              "    </tr>\n",
              "  </tbody>\n",
              "</table>\n",
              "</div>"
            ],
            "text/plain": [
              "      id  season city  ...          umpire1         umpire2  umpire3\n",
              "402  462    2014  NaN  ...        Aleem Dar    AK Chaudhary      NaN\n",
              "403  463    2014  NaN  ...        Aleem Dar     VA Kulkarni      NaN\n",
              "407  467    2014  NaN  ...  HDPK Dharmasena  RK Illingworth      NaN\n",
              "409  469    2014  NaN  ...        M Erasmus          S Ravi      NaN\n",
              "410  470    2014  NaN  ...        BF Bowden       M Erasmus      NaN\n",
              "415  475    2014  NaN  ...        BF Bowden          S Ravi      NaN\n",
              "417  477    2014  NaN  ...  HDPK Dharmasena       M Erasmus      NaN\n",
              "\n",
              "[7 rows x 18 columns]"
            ]
          },
          "metadata": {
            "tags": []
          },
          "execution_count": 8
        }
      ]
    },
    {
      "cell_type": "code",
      "metadata": {
        "id": "ZDZjWytxEBk8",
        "outputId": "c86805d4-9d8f-4cce-bee8-bc88a6b11e5c",
        "colab": {
          "base_uri": "https://localhost:8080/",
          "height": 300
        }
      },
      "source": [
        "#remove any null values, winner has hence fill the null value in winner as draw\n",
        "#City is also null\n",
        "matches['city'].fillna('Dubai',inplace=True)\n",
        "matches.describe()"
      ],
      "execution_count": null,
      "outputs": [
        {
          "output_type": "execute_result",
          "data": {
            "text/html": [
              "<div>\n",
              "<style scoped>\n",
              "    .dataframe tbody tr th:only-of-type {\n",
              "        vertical-align: middle;\n",
              "    }\n",
              "\n",
              "    .dataframe tbody tr th {\n",
              "        vertical-align: top;\n",
              "    }\n",
              "\n",
              "    .dataframe thead th {\n",
              "        text-align: right;\n",
              "    }\n",
              "</style>\n",
              "<table border=\"1\" class=\"dataframe\">\n",
              "  <thead>\n",
              "    <tr style=\"text-align: right;\">\n",
              "      <th></th>\n",
              "      <th>id</th>\n",
              "      <th>season</th>\n",
              "      <th>team1</th>\n",
              "      <th>team2</th>\n",
              "      <th>toss_winner</th>\n",
              "      <th>dl_applied</th>\n",
              "      <th>winner</th>\n",
              "      <th>win_by_runs</th>\n",
              "      <th>win_by_wickets</th>\n",
              "    </tr>\n",
              "  </thead>\n",
              "  <tbody>\n",
              "    <tr>\n",
              "      <th>count</th>\n",
              "      <td>756.000000</td>\n",
              "      <td>756.000000</td>\n",
              "      <td>756.000000</td>\n",
              "      <td>756.000000</td>\n",
              "      <td>756.000000</td>\n",
              "      <td>756.000000</td>\n",
              "      <td>756.000000</td>\n",
              "      <td>756.000000</td>\n",
              "      <td>756.000000</td>\n",
              "    </tr>\n",
              "    <tr>\n",
              "      <th>mean</th>\n",
              "      <td>1792.178571</td>\n",
              "      <td>2013.444444</td>\n",
              "      <td>5.498677</td>\n",
              "      <td>5.511905</td>\n",
              "      <td>5.370370</td>\n",
              "      <td>0.025132</td>\n",
              "      <td>5.318783</td>\n",
              "      <td>13.283069</td>\n",
              "      <td>3.350529</td>\n",
              "    </tr>\n",
              "    <tr>\n",
              "      <th>std</th>\n",
              "      <td>3464.478148</td>\n",
              "      <td>3.366895</td>\n",
              "      <td>3.307026</td>\n",
              "      <td>3.274807</td>\n",
              "      <td>3.218386</td>\n",
              "      <td>0.156630</td>\n",
              "      <td>3.264940</td>\n",
              "      <td>23.471144</td>\n",
              "      <td>3.387963</td>\n",
              "    </tr>\n",
              "    <tr>\n",
              "      <th>min</th>\n",
              "      <td>1.000000</td>\n",
              "      <td>2008.000000</td>\n",
              "      <td>1.000000</td>\n",
              "      <td>1.000000</td>\n",
              "      <td>1.000000</td>\n",
              "      <td>0.000000</td>\n",
              "      <td>1.000000</td>\n",
              "      <td>0.000000</td>\n",
              "      <td>0.000000</td>\n",
              "    </tr>\n",
              "    <tr>\n",
              "      <th>25%</th>\n",
              "      <td>189.750000</td>\n",
              "      <td>2011.000000</td>\n",
              "      <td>3.000000</td>\n",
              "      <td>3.000000</td>\n",
              "      <td>2.000000</td>\n",
              "      <td>0.000000</td>\n",
              "      <td>2.000000</td>\n",
              "      <td>0.000000</td>\n",
              "      <td>0.000000</td>\n",
              "    </tr>\n",
              "    <tr>\n",
              "      <th>50%</th>\n",
              "      <td>378.500000</td>\n",
              "      <td>2013.000000</td>\n",
              "      <td>5.000000</td>\n",
              "      <td>5.000000</td>\n",
              "      <td>5.000000</td>\n",
              "      <td>0.000000</td>\n",
              "      <td>5.000000</td>\n",
              "      <td>0.000000</td>\n",
              "      <td>4.000000</td>\n",
              "    </tr>\n",
              "    <tr>\n",
              "      <th>75%</th>\n",
              "      <td>567.250000</td>\n",
              "      <td>2016.000000</td>\n",
              "      <td>9.000000</td>\n",
              "      <td>8.000000</td>\n",
              "      <td>7.000000</td>\n",
              "      <td>0.000000</td>\n",
              "      <td>8.000000</td>\n",
              "      <td>19.000000</td>\n",
              "      <td>6.000000</td>\n",
              "    </tr>\n",
              "    <tr>\n",
              "      <th>max</th>\n",
              "      <td>11415.000000</td>\n",
              "      <td>2019.000000</td>\n",
              "      <td>13.000000</td>\n",
              "      <td>13.000000</td>\n",
              "      <td>13.000000</td>\n",
              "      <td>1.000000</td>\n",
              "      <td>14.000000</td>\n",
              "      <td>146.000000</td>\n",
              "      <td>10.000000</td>\n",
              "    </tr>\n",
              "  </tbody>\n",
              "</table>\n",
              "</div>"
            ],
            "text/plain": [
              "                 id       season  ...  win_by_runs  win_by_wickets\n",
              "count    756.000000   756.000000  ...   756.000000      756.000000\n",
              "mean    1792.178571  2013.444444  ...    13.283069        3.350529\n",
              "std     3464.478148     3.366895  ...    23.471144        3.387963\n",
              "min        1.000000  2008.000000  ...     0.000000        0.000000\n",
              "25%      189.750000  2011.000000  ...     0.000000        0.000000\n",
              "50%      378.500000  2013.000000  ...     0.000000        4.000000\n",
              "75%      567.250000  2016.000000  ...    19.000000        6.000000\n",
              "max    11415.000000  2019.000000  ...   146.000000       10.000000\n",
              "\n",
              "[8 rows x 9 columns]"
            ]
          },
          "metadata": {
            "tags": []
          },
          "execution_count": 9
        }
      ]
    },
    {
      "cell_type": "code",
      "metadata": {
        "id": "miZAiTkJESti",
        "outputId": "861ca7da-2270-4992-94a4-c2b7e646bc1e",
        "colab": {
          "base_uri": "https://localhost:8080/",
          "height": 54
        }
      },
      "source": [
        "dicVal = encode['winner']\n",
        "print(dicVal['MI']) #key value\n",
        "print(list(dicVal.keys())[list(dicVal.values()).index(1)]) #find key by value search"
      ],
      "execution_count": null,
      "outputs": [
        {
          "output_type": "stream",
          "text": [
            "1\n",
            "MI\n"
          ],
          "name": "stdout"
        }
      ]
    },
    {
      "cell_type": "code",
      "metadata": {
        "id": "6TfqrOXAEW36",
        "outputId": "4dc37e7c-0d90-470f-9031-e58915cb3cc1",
        "colab": {
          "base_uri": "https://localhost:8080/",
          "height": 112
        }
      },
      "source": [
        "matches = matches[['team1','team2','city','toss_decision','toss_winner','venue','winner']]\n",
        "matches.head(2)"
      ],
      "execution_count": null,
      "outputs": [
        {
          "output_type": "execute_result",
          "data": {
            "text/html": [
              "<div>\n",
              "<style scoped>\n",
              "    .dataframe tbody tr th:only-of-type {\n",
              "        vertical-align: middle;\n",
              "    }\n",
              "\n",
              "    .dataframe tbody tr th {\n",
              "        vertical-align: top;\n",
              "    }\n",
              "\n",
              "    .dataframe thead th {\n",
              "        text-align: right;\n",
              "    }\n",
              "</style>\n",
              "<table border=\"1\" class=\"dataframe\">\n",
              "  <thead>\n",
              "    <tr style=\"text-align: right;\">\n",
              "      <th></th>\n",
              "      <th>team1</th>\n",
              "      <th>team2</th>\n",
              "      <th>city</th>\n",
              "      <th>toss_decision</th>\n",
              "      <th>toss_winner</th>\n",
              "      <th>venue</th>\n",
              "      <th>winner</th>\n",
              "    </tr>\n",
              "  </thead>\n",
              "  <tbody>\n",
              "    <tr>\n",
              "      <th>0</th>\n",
              "      <td>2</td>\n",
              "      <td>3</td>\n",
              "      <td>Bangalore</td>\n",
              "      <td>field</td>\n",
              "      <td>3</td>\n",
              "      <td>M Chinnaswamy Stadium</td>\n",
              "      <td>2</td>\n",
              "    </tr>\n",
              "    <tr>\n",
              "      <th>1</th>\n",
              "      <td>5</td>\n",
              "      <td>9</td>\n",
              "      <td>Chandigarh</td>\n",
              "      <td>bat</td>\n",
              "      <td>5</td>\n",
              "      <td>Punjab Cricket Association Stadium, Mohali</td>\n",
              "      <td>5</td>\n",
              "    </tr>\n",
              "  </tbody>\n",
              "</table>\n",
              "</div>"
            ],
            "text/plain": [
              "   team1  team2  ...                                       venue winner\n",
              "0      2      3  ...                       M Chinnaswamy Stadium      2\n",
              "1      5      9  ...  Punjab Cricket Association Stadium, Mohali      5\n",
              "\n",
              "[2 rows x 7 columns]"
            ]
          },
          "metadata": {
            "tags": []
          },
          "execution_count": 12
        }
      ]
    },
    {
      "cell_type": "code",
      "metadata": {
        "id": "YD_gQkoPEbzs",
        "outputId": "f0ac0482-35cc-4a98-c1ca-a5ee21eb6c38",
        "colab": {
          "base_uri": "https://localhost:8080/",
          "height": 300
        }
      },
      "source": [
        "df = pd.DataFrame(matches)\n",
        "df.describe()"
      ],
      "execution_count": null,
      "outputs": [
        {
          "output_type": "execute_result",
          "data": {
            "text/html": [
              "<div>\n",
              "<style scoped>\n",
              "    .dataframe tbody tr th:only-of-type {\n",
              "        vertical-align: middle;\n",
              "    }\n",
              "\n",
              "    .dataframe tbody tr th {\n",
              "        vertical-align: top;\n",
              "    }\n",
              "\n",
              "    .dataframe thead th {\n",
              "        text-align: right;\n",
              "    }\n",
              "</style>\n",
              "<table border=\"1\" class=\"dataframe\">\n",
              "  <thead>\n",
              "    <tr style=\"text-align: right;\">\n",
              "      <th></th>\n",
              "      <th>team1</th>\n",
              "      <th>team2</th>\n",
              "      <th>toss_winner</th>\n",
              "      <th>winner</th>\n",
              "    </tr>\n",
              "  </thead>\n",
              "  <tbody>\n",
              "    <tr>\n",
              "      <th>count</th>\n",
              "      <td>756.000000</td>\n",
              "      <td>756.000000</td>\n",
              "      <td>756.000000</td>\n",
              "      <td>756.000000</td>\n",
              "    </tr>\n",
              "    <tr>\n",
              "      <th>mean</th>\n",
              "      <td>5.498677</td>\n",
              "      <td>5.511905</td>\n",
              "      <td>5.370370</td>\n",
              "      <td>5.318783</td>\n",
              "    </tr>\n",
              "    <tr>\n",
              "      <th>std</th>\n",
              "      <td>3.307026</td>\n",
              "      <td>3.274807</td>\n",
              "      <td>3.218386</td>\n",
              "      <td>3.264940</td>\n",
              "    </tr>\n",
              "    <tr>\n",
              "      <th>min</th>\n",
              "      <td>1.000000</td>\n",
              "      <td>1.000000</td>\n",
              "      <td>1.000000</td>\n",
              "      <td>1.000000</td>\n",
              "    </tr>\n",
              "    <tr>\n",
              "      <th>25%</th>\n",
              "      <td>3.000000</td>\n",
              "      <td>3.000000</td>\n",
              "      <td>2.000000</td>\n",
              "      <td>2.000000</td>\n",
              "    </tr>\n",
              "    <tr>\n",
              "      <th>50%</th>\n",
              "      <td>5.000000</td>\n",
              "      <td>5.000000</td>\n",
              "      <td>5.000000</td>\n",
              "      <td>5.000000</td>\n",
              "    </tr>\n",
              "    <tr>\n",
              "      <th>75%</th>\n",
              "      <td>9.000000</td>\n",
              "      <td>8.000000</td>\n",
              "      <td>7.000000</td>\n",
              "      <td>8.000000</td>\n",
              "    </tr>\n",
              "    <tr>\n",
              "      <th>max</th>\n",
              "      <td>13.000000</td>\n",
              "      <td>13.000000</td>\n",
              "      <td>13.000000</td>\n",
              "      <td>14.000000</td>\n",
              "    </tr>\n",
              "  </tbody>\n",
              "</table>\n",
              "</div>"
            ],
            "text/plain": [
              "            team1       team2  toss_winner      winner\n",
              "count  756.000000  756.000000   756.000000  756.000000\n",
              "mean     5.498677    5.511905     5.370370    5.318783\n",
              "std      3.307026    3.274807     3.218386    3.264940\n",
              "min      1.000000    1.000000     1.000000    1.000000\n",
              "25%      3.000000    3.000000     2.000000    2.000000\n",
              "50%      5.000000    5.000000     5.000000    5.000000\n",
              "75%      9.000000    8.000000     7.000000    8.000000\n",
              "max     13.000000   13.000000    13.000000   14.000000"
            ]
          },
          "metadata": {
            "tags": []
          },
          "execution_count": 14
        }
      ]
    },
    {
      "cell_type": "code",
      "metadata": {
        "id": "VCtHt9JOEf2-",
        "outputId": "de85f509-54c1-4fb2-ef39-64f1328a2988",
        "colab": {
          "base_uri": "https://localhost:8080/",
          "height": 550
        }
      },
      "source": [
        "temp1=df['toss_winner'].value_counts(sort=True)\n",
        "temp2=df['winner'].value_counts(sort=True)\n",
        "#Mumbai won most toss and also most matches\n",
        "print('No of toss winners by each team')\n",
        "for idx, val in temp1.iteritems():\n",
        "   print('{} -> {}'.format(list(dicVal.keys())[list(dicVal.values()).index(idx)],val))\n",
        "print('No of match winners by each team')\n",
        "for idx, val in temp2.iteritems():\n",
        "   print('{} -> {}'.format(list(dicVal.keys())[list(dicVal.values()).index(idx)],val))"
      ],
      "execution_count": null,
      "outputs": [
        {
          "output_type": "stream",
          "text": [
            "No of toss winners by each team\n",
            "MI -> 98\n",
            "KKR -> 92\n",
            "DD -> 90\n",
            "CSK -> 89\n",
            "KXIP -> 81\n",
            "RCB -> 81\n",
            "RR -> 80\n",
            "SRH -> 46\n",
            "DC -> 43\n",
            "PW -> 20\n",
            "GL -> 15\n",
            "RPS -> 13\n",
            "KTK -> 8\n",
            "No of match winners by each team\n",
            "MI -> 109\n",
            "CSK -> 100\n",
            "KKR -> 92\n",
            "RCB -> 84\n",
            "KXIP -> 82\n",
            "DD -> 77\n",
            "RR -> 75\n",
            "SRH -> 58\n",
            "DC -> 29\n",
            "RPS -> 15\n",
            "GL -> 13\n",
            "PW -> 12\n",
            "KTK -> 6\n",
            "Draw -> 4\n"
          ],
          "name": "stdout"
        }
      ]
    },
    {
      "cell_type": "code",
      "metadata": {
        "id": "UpJgxEGGHd-L",
        "outputId": "d98181a1-0496-47b2-cee6-315031e2881a",
        "colab": {
          "base_uri": "https://localhost:8080/",
          "height": 283
        }
      },
      "source": [
        "#shows that Mumbai won most matches followed by Chennai\n",
        "df['winner'].hist(bins=40)"
      ],
      "execution_count": null,
      "outputs": [
        {
          "output_type": "execute_result",
          "data": {
            "text/plain": [
              "<matplotlib.axes._subplots.AxesSubplot at 0x7f79be5e32b0>"
            ]
          },
          "metadata": {
            "tags": []
          },
          "execution_count": 16
        },
        {
          "output_type": "display_data",
          "data": {
            "image/png": "[encoded data removed]",
            "text/plain": [
              "<Figure size 432x288 with 1 Axes>"
            ]
          },
          "metadata": {
            "tags": [],
            "needs_background": "light"
          }
        }
      ]
    },
    {
      "cell_type": "code",
      "metadata": {
        "id": "l4thPDOLHpGb",
        "outputId": "d92631ee-8a37-4915-da92-82b90d19c06f",
        "colab": {
          "base_uri": "https://localhost:8080/",
          "height": 316
        }
      },
      "source": [
        "import matplotlib.pyplot as plt\n",
        "fig = plt.figure(figsize=(8,4))\n",
        "ax1 = fig.add_subplot(121)\n",
        "ax1.set_xlabel('Team')\n",
        "ax1.set_ylabel('Count of toss wins')\n",
        "ax1.set_title(\"toss winners\")\n",
        "temp1.plot(kind='bar')\n",
        "\n",
        "ax2 = fig.add_subplot(122)\n",
        "temp2.plot(kind = 'bar')\n",
        "ax2.set_xlabel('Team')\n",
        "ax2.set_ylabel('count of matches won')\n",
        "ax2.set_title(\"Match winners\")"
      ],
      "execution_count": null,
      "outputs": [
        {
          "output_type": "execute_result",
          "data": {
            "text/plain": [
              "Text(0.5, 1.0, 'Match winners')"
            ]
          },
          "metadata": {
            "tags": []
          },
          "execution_count": 17
        },
        {
          "output_type": "display_data",
          "data": {
            "image/png": "[encoded data removed]",
            "text/plain": [
              "<Figure size 576x288 with 2 Axes>"
            ]
          },
          "metadata": {
            "tags": [],
            "needs_background": "light"
          }
        }
      ]
    },
    {
      "cell_type": "code",
      "metadata": {
        "id": "L1mG7GbSHu6r",
        "outputId": "39af6fa9-e9aa-430d-afc7-2072e0acc629",
        "colab": {
          "base_uri": "https://localhost:8080/",
          "height": 164
        }
      },
      "source": [
        " df.apply(lambda x: sum(x.isnull()),axis=0)\n",
        "    #find the null values in every column"
      ],
      "execution_count": null,
      "outputs": [
        {
          "output_type": "execute_result",
          "data": {
            "text/plain": [
              "team1            0\n",
              "team2            0\n",
              "city             0\n",
              "toss_decision    0\n",
              "toss_winner      0\n",
              "venue            0\n",
              "winner           0\n",
              "dtype: int64"
            ]
          },
          "metadata": {
            "tags": []
          },
          "execution_count": 18
        }
      ]
    },
    {
      "cell_type": "code",
      "metadata": {
        "id": "QX4aXt8oHx16",
        "outputId": "2f65723e-a1ad-40eb-e25a-3b72cd72bdde",
        "colab": {
          "base_uri": "https://localhost:8080/",
          "height": 49
        }
      },
      "source": [
        "#Find cities which are null\n",
        "df[pd.isnull(df['city'])]"
      ],
      "execution_count": null,
      "outputs": [
        {
          "output_type": "execute_result",
          "data": {
            "text/html": [
              "<div>\n",
              "<style scoped>\n",
              "    .dataframe tbody tr th:only-of-type {\n",
              "        vertical-align: middle;\n",
              "    }\n",
              "\n",
              "    .dataframe tbody tr th {\n",
              "        vertical-align: top;\n",
              "    }\n",
              "\n",
              "    .dataframe thead th {\n",
              "        text-align: right;\n",
              "    }\n",
              "</style>\n",
              "<table border=\"1\" class=\"dataframe\">\n",
              "  <thead>\n",
              "    <tr style=\"text-align: right;\">\n",
              "      <th></th>\n",
              "      <th>team1</th>\n",
              "      <th>team2</th>\n",
              "      <th>city</th>\n",
              "      <th>toss_decision</th>\n",
              "      <th>toss_winner</th>\n",
              "      <th>venue</th>\n",
              "      <th>winner</th>\n",
              "    </tr>\n",
              "  </thead>\n",
              "  <tbody>\n",
              "  </tbody>\n",
              "</table>\n",
              "</div>"
            ],
            "text/plain": [
              "Empty DataFrame\n",
              "Columns: [team1, team2, city, toss_decision, toss_winner, venue, winner]\n",
              "Index: []"
            ]
          },
          "metadata": {
            "tags": []
          },
          "execution_count": 19
        }
      ]
    },
    {
      "cell_type": "code",
      "metadata": {
        "id": "SpzON6E9H1fm",
        "outputId": "9a1bfc64-91cf-4048-9115-53a06fb485d4",
        "colab": {
          "base_uri": "https://localhost:8080/",
          "height": 164
        }
      },
      "source": [
        "#building predictive model\n",
        "from sklearn.preprocessing import LabelEncoder\n",
        "var_mod = ['city','toss_decision','venue']\n",
        "le = LabelEncoder()\n",
        "for i in var_mod:\n",
        "    df[i] = le.fit_transform(df[i])\n",
        "df.dtypes"
      ],
      "execution_count": null,
      "outputs": [
        {
          "output_type": "execute_result",
          "data": {
            "text/plain": [
              "team1            int64\n",
              "team2            int64\n",
              "city             int64\n",
              "toss_decision    int64\n",
              "toss_winner      int64\n",
              "venue            int64\n",
              "winner           int64\n",
              "dtype: object"
            ]
          },
          "metadata": {
            "tags": []
          },
          "execution_count": 20
        }
      ]
    },
    {
      "cell_type": "code",
      "metadata": {
        "id": "iqfP25WsH8Gh"
      },
      "source": [
        "#Import models from scikit learn module:\n",
        "from sklearn.linear_model import LogisticRegression\n",
        "from sklearn.model_selection import KFold   #For K-fold cross validation\n",
        "from sklearn.ensemble import RandomForestClassifier\n",
        "from sklearn.tree import DecisionTreeClassifier, export_graphviz\n",
        "from sklearn import metrics\n",
        "\n",
        "#Generic function for making a classification model and accessing performance:\n",
        "def classification_model(model, data, predictors, outcome):\n",
        "  model.fit(data[predictors],data[outcome].values.ravel())\n",
        "  predictions = model.predict(data[predictors])\n",
        "  accuracy = metrics.accuracy_score(predictions,data[outcome])\n",
        "  print('Accuracy : %s' % '{0:.3%}'.format(accuracy))\n",
        "  kf = KFold(n_splits=9)\n",
        "  error = []\n",
        "  for train, test in kf.split(data[predictors]):\n",
        "    train_predictors = (data[predictors].iloc[train,:])\n",
        "    train_target = data[outcome].iloc[train]\n",
        "    model.fit(train_predictors, train_target.values.ravel())\n",
        "    error.append(model.score(data[predictors].iloc[test,:], data[outcome].iloc[test]))\n",
        "\n",
        "  print('Cross-Validation Score : %s' % '{0:.3%}'.format(np.mean(error)))\n",
        "\n",
        "  model.fit(data[predictors],data[outcome].values.ravel())"
      ],
      "execution_count": null,
      "outputs": []
    },
    {
      "cell_type": "code",
      "metadata": {
        "id": "1Va17TPOH_Vu",
        "outputId": "c1c28ece-0572-48a4-d4b8-5dcf42795a02",
        "colab": {
          "base_uri": "https://localhost:8080/",
          "height": 54
        }
      },
      "source": [
        "from sklearn.ensemble import RandomForestRegressor\n",
        "outcome_var=['winner']\n",
        "predictor_var = ['team1','team2','toss_winner']\n",
        "model = LogisticRegression(max_iter=1000)\n",
        "classification_model(model, df,predictor_var,outcome_var)"
      ],
      "execution_count": null,
      "outputs": [
        {
          "output_type": "stream",
          "text": [
            "Accuracy : 25.661%\n",
            "Cross-Validation Score : 23.942%\n"
          ],
          "name": "stdout"
        }
      ]
    },
    {
      "cell_type": "code",
      "metadata": {
        "id": "8E5b6ZeKIDjF",
        "outputId": "94a8e66e-09fa-48c1-b92c-6e90c5ec295c",
        "colab": {
          "base_uri": "https://localhost:8080/",
          "height": 143
        }
      },
      "source": [
        "df.head(3)"
      ],
      "execution_count": null,
      "outputs": [
        {
          "output_type": "execute_result",
          "data": {
            "text/html": [
              "<div>\n",
              "<style scoped>\n",
              "    .dataframe tbody tr th:only-of-type {\n",
              "        vertical-align: middle;\n",
              "    }\n",
              "\n",
              "    .dataframe tbody tr th {\n",
              "        vertical-align: top;\n",
              "    }\n",
              "\n",
              "    .dataframe thead th {\n",
              "        text-align: right;\n",
              "    }\n",
              "</style>\n",
              "<table border=\"1\" class=\"dataframe\">\n",
              "  <thead>\n",
              "    <tr style=\"text-align: right;\">\n",
              "      <th></th>\n",
              "      <th>team1</th>\n",
              "      <th>team2</th>\n",
              "      <th>city</th>\n",
              "      <th>toss_decision</th>\n",
              "      <th>toss_winner</th>\n",
              "      <th>venue</th>\n",
              "      <th>winner</th>\n",
              "    </tr>\n",
              "  </thead>\n",
              "  <tbody>\n",
              "    <tr>\n",
              "      <th>0</th>\n",
              "      <td>2</td>\n",
              "      <td>3</td>\n",
              "      <td>2</td>\n",
              "      <td>1</td>\n",
              "      <td>3</td>\n",
              "      <td>17</td>\n",
              "      <td>2</td>\n",
              "    </tr>\n",
              "    <tr>\n",
              "      <th>1</th>\n",
              "      <td>5</td>\n",
              "      <td>9</td>\n",
              "      <td>7</td>\n",
              "      <td>0</td>\n",
              "      <td>5</td>\n",
              "      <td>27</td>\n",
              "      <td>5</td>\n",
              "    </tr>\n",
              "    <tr>\n",
              "      <th>2</th>\n",
              "      <td>6</td>\n",
              "      <td>7</td>\n",
              "      <td>10</td>\n",
              "      <td>0</td>\n",
              "      <td>6</td>\n",
              "      <td>9</td>\n",
              "      <td>7</td>\n",
              "    </tr>\n",
              "  </tbody>\n",
              "</table>\n",
              "</div>"
            ],
            "text/plain": [
              "   team1  team2  city  toss_decision  toss_winner  venue  winner\n",
              "0      2      3     2              1            3     17       2\n",
              "1      5      9     7              0            5     27       5\n",
              "2      6      7    10              0            6      9       7"
            ]
          },
          "metadata": {
            "tags": []
          },
          "execution_count": 23
        }
      ]
    },
    {
      "cell_type": "code",
      "metadata": {
        "id": "IlGcnOVSILPa",
        "outputId": "ffba810a-71cf-4f57-bff3-f6fd3723711f",
        "colab": {
          "base_uri": "https://localhost:8080/",
          "height": 54
        }
      },
      "source": [
        "model = RandomForestClassifier(n_estimators=100)\n",
        "outcome_var = ['winner']\n",
        "predictor_var = ['team1', 'team2', 'venue', 'toss_winner','city','toss_decision']\n",
        "classification_model(model, df,predictor_var,outcome_var)"
      ],
      "execution_count": null,
      "outputs": [
        {
          "output_type": "stream",
          "text": [
            "Accuracy : 87.963%\n",
            "Cross-Validation Score : 48.942%\n"
          ],
          "name": "stdout"
        }
      ]
    },
    {
      "cell_type": "code",
      "metadata": {
        "id": "prW9HHOCIVXC",
        "outputId": "b13c8b2b-926d-43d9-e3fd-bc792e091521",
        "colab": {
          "base_uri": "https://localhost:8080/",
          "height": 269
        }
      },
      "source": [
        "df.head(7)"
      ],
      "execution_count": null,
      "outputs": [
        {
          "output_type": "execute_result",
          "data": {
            "text/html": [
              "<div>\n",
              "<style scoped>\n",
              "    .dataframe tbody tr th:only-of-type {\n",
              "        vertical-align: middle;\n",
              "    }\n",
              "\n",
              "    .dataframe tbody tr th {\n",
              "        vertical-align: top;\n",
              "    }\n",
              "\n",
              "    .dataframe thead th {\n",
              "        text-align: right;\n",
              "    }\n",
              "</style>\n",
              "<table border=\"1\" class=\"dataframe\">\n",
              "  <thead>\n",
              "    <tr style=\"text-align: right;\">\n",
              "      <th></th>\n",
              "      <th>team1</th>\n",
              "      <th>team2</th>\n",
              "      <th>city</th>\n",
              "      <th>toss_decision</th>\n",
              "      <th>toss_winner</th>\n",
              "      <th>venue</th>\n",
              "      <th>winner</th>\n",
              "    </tr>\n",
              "  </thead>\n",
              "  <tbody>\n",
              "    <tr>\n",
              "      <th>0</th>\n",
              "      <td>2</td>\n",
              "      <td>3</td>\n",
              "      <td>2</td>\n",
              "      <td>1</td>\n",
              "      <td>3</td>\n",
              "      <td>17</td>\n",
              "      <td>2</td>\n",
              "    </tr>\n",
              "    <tr>\n",
              "      <th>1</th>\n",
              "      <td>5</td>\n",
              "      <td>9</td>\n",
              "      <td>7</td>\n",
              "      <td>0</td>\n",
              "      <td>5</td>\n",
              "      <td>27</td>\n",
              "      <td>5</td>\n",
              "    </tr>\n",
              "    <tr>\n",
              "      <th>2</th>\n",
              "      <td>6</td>\n",
              "      <td>7</td>\n",
              "      <td>10</td>\n",
              "      <td>0</td>\n",
              "      <td>6</td>\n",
              "      <td>9</td>\n",
              "      <td>7</td>\n",
              "    </tr>\n",
              "    <tr>\n",
              "      <th>3</th>\n",
              "      <td>1</td>\n",
              "      <td>3</td>\n",
              "      <td>24</td>\n",
              "      <td>0</td>\n",
              "      <td>1</td>\n",
              "      <td>40</td>\n",
              "      <td>3</td>\n",
              "    </tr>\n",
              "    <tr>\n",
              "      <th>4</th>\n",
              "      <td>4</td>\n",
              "      <td>2</td>\n",
              "      <td>22</td>\n",
              "      <td>0</td>\n",
              "      <td>4</td>\n",
              "      <td>8</td>\n",
              "      <td>2</td>\n",
              "    </tr>\n",
              "    <tr>\n",
              "      <th>5</th>\n",
              "      <td>9</td>\n",
              "      <td>6</td>\n",
              "      <td>17</td>\n",
              "      <td>0</td>\n",
              "      <td>9</td>\n",
              "      <td>32</td>\n",
              "      <td>6</td>\n",
              "    </tr>\n",
              "    <tr>\n",
              "      <th>6</th>\n",
              "      <td>4</td>\n",
              "      <td>7</td>\n",
              "      <td>15</td>\n",
              "      <td>0</td>\n",
              "      <td>4</td>\n",
              "      <td>28</td>\n",
              "      <td>7</td>\n",
              "    </tr>\n",
              "  </tbody>\n",
              "</table>\n",
              "</div>"
            ],
            "text/plain": [
              "   team1  team2  city  toss_decision  toss_winner  venue  winner\n",
              "0      2      3     2              1            3     17       2\n",
              "1      5      9     7              0            5     27       5\n",
              "2      6      7    10              0            6      9       7\n",
              "3      1      3    24              0            1     40       3\n",
              "4      4      2    22              0            4      8       2\n",
              "5      9      6    17              0            9     32       6\n",
              "6      4      7    15              0            4     28       7"
            ]
          },
          "metadata": {
            "tags": []
          },
          "execution_count": 25
        }
      ]
    },
    {
      "cell_type": "code",
      "metadata": {
        "id": "t179AMlPIINJ",
        "outputId": "7b6de817-e494-4f47-e9af-aaa442263dfc",
        "colab": {
          "base_uri": "https://localhost:8080/",
          "height": 35
        }
      },
      "source": [
        "#'team1', 'team2', 'venue', 'toss_winner','city','toss_decision'\n",
        "team1='RCB'\n",
        "team2='KKR'\n",
        "toss_winner='RCB'\n",
        "input=[dicVal[team1],dicVal[team2],'14',dicVal[toss_winner],'2','1']\n",
        "input = np.array(input).reshape((1, -1))\n",
        "output=model.predict(input)\n",
        "print(list(dicVal.keys())[list(dicVal.values()).index(output)]) #find key by value search output"
      ],
      "execution_count": null,
      "outputs": [
        {
          "output_type": "stream",
          "text": [
            "KKR\n"
          ],
          "name": "stdout"
        }
      ]
    },
    {
      "cell_type": "code",
      "metadata": {
        "id": "yjcMqqHqIOKK",
        "outputId": "d22fb1e3-003a-40d8-81b3-fb708706d251",
        "colab": {
          "base_uri": "https://localhost:8080/",
          "height": 35
        }
      },
      "source": [
        "#'team1', 'team2', 'venue', 'toss_winner','city','toss_decision'\n",
        "team1='DC'\n",
        "team2='DD'\n",
        "toss_winner='DC'\n",
        "input=[dicVal[team1],dicVal[team2],'23',dicVal[toss_winner],'14','0']\n",
        "input = np.array(input).reshape((1, -1))\n",
        "output=model.predict(input)\n",
        "print(list(dicVal.keys())[list(dicVal.values()).index(output)]) #find key by value search output"
      ],
      "execution_count": null,
      "outputs": [
        {
          "output_type": "stream",
          "text": [
            "DD\n"
          ],
          "name": "stdout"
        }
      ]
    },
    {
      "cell_type": "code",
      "metadata": {
        "id": "S1NOIleLISOm",
        "outputId": "72ae57ef-da7b-4970-d4b8-83bd57c59649",
        "colab": {
          "base_uri": "https://localhost:8080/",
          "height": 146
        }
      },
      "source": [
        "#feature importances: If we ignore teams, Venue seems to be one of important factors in determining winners\n",
        "#followed by toss winning, city\n",
        "#we notice that team1 and team2 account for highest value for reason that it is either if these value\n",
        "#with toss winner going to be winner. So we could ignore team2 and team1\n",
        "imp_input = pd.Series(model.feature_importances_, index=predictor_var).sort_values(ascending=False)\n",
        "print(imp_input)"
      ],
      "execution_count": null,
      "outputs": [
        {
          "output_type": "stream",
          "text": [
            "team2            0.243538\n",
            "team1            0.221664\n",
            "venue            0.174437\n",
            "toss_winner      0.170251\n",
            "city             0.159297\n",
            "toss_decision    0.030812\n",
            "dtype: float64\n"
          ],
          "name": "stdout"
        }
      ]
    },
    {
      "cell_type": "code",
      "metadata": {
        "id": "pwkEEYe1IXsV",
        "outputId": "c887f895-2427-42ff-9883-2c7c07a07d5d",
        "colab": {
          "base_uri": "https://localhost:8080/",
          "height": 381
        }
      },
      "source": [
        "#okay from the above prediction on features, we notice toss winner has least chances of winning matches\n",
        "#but does the current stats shows the same result\n",
        "#df.count --> 577 rows\n",
        "#Previously toss_winners were about 50.4%, with 2017 IPL season, it has reached 56.7%. As data matures, so does\n",
        "# the changes in the predictions\n",
        "import matplotlib.pyplot as mlt\n",
        "mlt.style.use('fivethirtyeight')\n",
        "df_fil=df[df['toss_winner']==df['winner']]\n",
        "slices=[len(df_fil),(756-len(df_fil))]\n",
        "mlt.pie(slices,labels=['Toss & win','Toss & lose'],startangle=90,shadow=True,explode=(0,0),autopct='%1.1f%%',colors=['r','g'])\n",
        "fig = mlt.gcf()\n",
        "fig.set_size_inches(6,6)\n",
        "mlt.show()\n",
        "# Toss winning does not gaurantee a match win from analysis of current stats and thus\n",
        "#prediction feature gives less weightage to that"
      ],
      "execution_count": null,
      "outputs": [
        {
          "output_type": "display_data",
          "data": {
            "image/png": "[encoded data removed]",
            "text/plain": [
              "<Figure size 432x432 with 1 Axes>"
            ]
          },
          "metadata": {
            "tags": []
          }
        }
      ]
    },
    {
      "cell_type": "code",
      "metadata": {
        "id": "EEv-aXdaIb7I",
        "outputId": "f1efaab0-1fbd-4179-f651-59b721dcae52",
        "colab": {
          "base_uri": "https://localhost:8080/",
          "height": 424
        }
      },
      "source": [
        "#top 2 team analysis based on number of matches won against each other and how venue affects them?\n",
        "#Previously we noticed that CSK won 79, RCB won 70 matches\n",
        "#now let us compare venue against a match between CSK and RCB\n",
        "#we find that CSK has won most matches against RCB in MA Chidambaram Stadium, Chepauk, Chennai\n",
        "#RCB has not won any match with CSK in stadiums St George's Park and Wankhede Stadium, but won matches\n",
        "#with CSK in Kingsmead, New Wanderers Stadium.\n",
        "#It does prove that chances of CSK winning is more in Chepauk stadium when played against RCB.\n",
        "# Proves venue is important feature in predictability\n",
        "import seaborn as sns\n",
        "team1=dicVal['KXIP']\n",
        "team2=dicVal['SRH']\n",
        "mtemp=matches[((matches['team1']==team1)|(matches['team2']==team1))&((matches['team1']==team2)|(matches['team2']==team2))]\n",
        "sns.countplot(x='venue', hue='winner',data=mtemp,palette='Set2')\n",
        "mlt.xticks(rotation='vertical')\n",
        "leg = mlt.legend( loc = 'upper right')\n",
        "fig=mlt.gcf()\n",
        "fig.set_size_inches(10,6)\n",
        "mlt.show()\n",
        "#use --> le.classes_[18] to get stadium details"
      ],
      "execution_count": null,
      "outputs": [
        {
          "output_type": "display_data",
          "data": {
            "image/png": "[encoded data removed]",
            "text/plain": [
              "<Figure size 720x432 with 1 Axes>"
            ]
          },
          "metadata": {
            "tags": []
          }
        }
      ]
    },
    {
      "cell_type": "code",
      "metadata": {
        "id": "aQatgUbmIfIN",
        "outputId": "62bdaee3-b36b-4aa3-f207-683ce60df87c",
        "colab": {
          "base_uri": "https://localhost:8080/",
          "height": 36
        }
      },
      "source": [
        "le.classes_[40]"
      ],
      "execution_count": null,
      "outputs": [
        {
          "output_type": "execute_result",
          "data": {
            "application/vnd.google.colaboratory.intrinsic+json": {
              "type": "string"
            },
            "text/plain": [
              "'Wankhede Stadium'"
            ]
          },
          "metadata": {
            "tags": []
          },
          "execution_count": 31
        }
      ]
    }
  ]
}